{
 "cells": [
  {
   "cell_type": "code",
   "execution_count": null,
   "metadata": {},
   "outputs": [],
   "source": [
    "!pip install tensorflow==2.13.0\n",
    "!pip install tensorflow-addons==0.21.0\n",
    "\n",
    "import numpy as np\n",
    "import pandas as pd\n",
    "import seaborn as sns\n",
    "import tensorflow as tf\n",
    "import matplotlib.pyplot as plt\n",
    "\n",
    "import os\n",
    "from distutils.dir_util import copy_tree, remove_tree\n",
    "\n",
    "from PIL import Image\n",
    "from random import randint\n",
    "\n",
    "from imblearn.over_sampling import SMOTE\n",
    "from sklearn.model_selection import train_test_split\n",
    "from sklearn.metrics import matthews_corrcoef as MCC\n",
    "from sklearn.metrics import balanced_accuracy_score as BAS\n",
    "from sklearn.metrics import classification_report, confusion_matrix\n",
    "\n",
    "import tensorflow_addons as tfa\n",
    "from tensorflow.keras.utils import plot_model\n",
    "\n",
    "from tensorflow.keras import Sequential, Input\n",
    "from tensorflow.keras.layers import Dense, Dropout\n",
    "from tensorflow.keras.layers import Conv2D, Flatten\n",
    "from tensorflow.keras.callbacks import EarlyStopping, ReduceLROnPlateau, LearningRateScheduler\n",
    "from tensorflow.keras.applications.inception_v3 import InceptionV3\n",
    "from tensorflow.keras.preprocessing.image import ImageDataGenerator as IDG\n",
    "from tensorflow.keras.layers import SeparableConv2D, BatchNormalization, MaxPool2D"
   ]
  },
  {
   "cell_type": "code",
   "execution_count": null,
   "metadata": {},
   "outputs": [],
   "source": [
    "# --- Enhanced Data Augmentation Parameters ---\n",
    "ZOOM = [0.8, 1.2]         # Wider zoom variation\n",
    "BRIGHT_RANGE = [0.6, 1.4]  # Wider brightness variation\n",
    "HORZ_FLIP = True\n",
    "VERT_FLIP = True           # Add vertical flip\n",
    "SHEAR_RANGE = 0.2          # Add shear transformation\n",
    "FILL_MODE = \"constant\"\n",
    "DATA_FORMAT = \"channels_last\"\n",
    "\n",
    "work_dr = IDG(rescale=1./255,\n",
    "              brightness_range=BRIGHT_RANGE,\n",
    "              zoom_range=ZOOM,\n",
    "              rotation_range=30,          # Increased rotation\n",
    "              width_shift_range=0.3,      # Increased shift range\n",
    "              height_shift_range=0.3,\n",
    "              shear_range=SHEAR_RANGE,\n",
    "              horizontal_flip=HORZ_FLIP,\n",
    "              vertical_flip=VERT_FLIP,\n",
    "              fill_mode=FILL_MODE,\n",
    "              data_format=DATA_FORMAT)"
   ]
  },
  {
   "cell_type": "code",
   "execution_count": null,
   "metadata": {},
   "outputs": [],
   "source": [
    "# Define a convolutional block with stronger regularization\n",
    "def conv_block(filters, act='relu'):\n",
    "    \"\"\"Defining a Convolutional NN block for a Sequential CNN model.\"\"\"\n",
    "    block = Sequential()\n",
    "    block.add(Conv2D(filters, 3, activation=act, padding='same',\n",
    "                     kernel_regularizer=tf.keras.regularizers.l2(2e-3)))  # Increased L2\n",
    "    block.add(Conv2D(filters, 3, activation=act, padding='same',\n",
    "                     kernel_regularizer=tf.keras.regularizers.l2(2e-3)))\n",
    "    block.add(BatchNormalization())\n",
    "    block.add(MaxPool2D())\n",
    "    block.add(Dropout(0.3))  # Added dropout after each conv block\n",
    "    return block"
   ]
  },
  {
   "cell_type": "code",
   "execution_count": null,
   "metadata": {},
   "outputs": [],
   "source": [
    "def dense_block(units, dropout_rate, act='relu'):\n",
    "    \"\"\"Defining a Dense NN block for a Sequential CNN model.\"\"\"\n",
    "    block = Sequential()\n",
    "    block.add(Dense(units, activation=act,\n",
    "                   kernel_regularizer=tf.keras.regularizers.l2(2e-3)))  # Added L2\n",
    "    block.add(BatchNormalization())\n",
    "    block.add(Dropout(dropout_rate + 0.1))  # Increased dropout\n",
    "    \n",
    "    return block"
   ]
  },
  {
   "cell_type": "code",
   "execution_count": null,
   "metadata": {},
   "outputs": [],
   "source": [
    "# Construct a simplified CNN model\n",
    "def construct_model(act='relu'):\n",
    "    \"\"\"Constructing a Sequential CNN architecture for performing the classification task.\"\"\"\n",
    "    model = Sequential([\n",
    "        Input(shape=(*IMAGE_SIZE, 3)),\n",
    "        Conv2D(16, 3, activation=act, padding='same',\n",
    "               kernel_regularizer=tf.keras.regularizers.l2(2e-3)),\n",
    "        Conv2D(16, 3, activation=act, padding='same',\n",
    "               kernel_regularizer=tf.keras.regularizers.l2(2e-3)),\n",
    "        MaxPool2D(),\n",
    "        conv_block(32),\n",
    "        conv_block(64),\n",
    "        conv_block(128),\n",
    "        Dropout(0.7),  # Increased dropout\n",
    "        Flatten(),\n",
    "        dense_block(128, 0.8),  # Reduced complexity\n",
    "        dense_block(64, 0.6),\n",
    "        Dense(4, activation='softmax')        \n",
    "    ], name=\"cnn_model\")\n",
    "    return model"
   ]
  },
  {
   "cell_type": "code",
   "execution_count": null,
   "metadata": {},
   "outputs": [],
   "source": [
    "# Learning rate schedule\n",
    "def lr_schedule(epoch):\n",
    "    \"\"\"Learning Rate Schedule\"\"\"\n",
    "    lr = 1e-3\n",
    "    if epoch > 20:\n",
    "        lr *= 0.5e-1\n",
    "    elif epoch > 15:\n",
    "        lr *= 1e-1\n",
    "    elif epoch > 10:\n",
    "        lr *= 1e-1\n",
    "    elif epoch > 5:\n",
    "        lr *= 1e-1\n",
    "    return lr\n",
    "\n",
    "# Compile the model with learning rate scheduling\n",
    "model = construct_model()\n",
    "\n",
    "METRICS = [tf.keras.metrics.CategoricalAccuracy(name='acc'),\n",
    "           tf.keras.metrics.AUC(name='auc'),\n",
    "           tfa.metrics.F1Score(num_classes=4),\n",
    "           tf.keras.metrics.Precision(name='precision'),\n",
    "           tf.keras.metrics.Recall(name='recall')]\n",
    "\n",
    "optimizer = tf.keras.optimizers.Adam(learning_rate=1e-3)\n",
    "lr_scheduler = tf.keras.callbacks.LearningRateScheduler(lr_schedule)\n",
    "\n",
    "model.compile(optimizer=optimizer,\n",
    "              loss=tf.losses.CategoricalCrossentropy(),\n",
    "              metrics=METRICS)\n",
    "\n",
    "model.summary()"
   ]
  },
  {
   "cell_type": "code",
   "execution_count": null,
   "metadata": {},
   "outputs": [],
   "source": [
    "early_stopping = EarlyStopping(monitor='val_loss', patience=8, restore_best_weights=True)\n",
    "reduce_lr = tf.keras.callbacks.ReduceLROnPlateau(monitor='val_loss', factor=0.2,\n",
    "                                                patience=3, min_lr=1e-6)\n",
    "CALLBACKS = [early_stopping, reduce_lr, lr_scheduler]"
   ]
  },
  {
   "cell_type": "code",
   "execution_count": null,
   "metadata": {},
   "outputs": [],
   "source": [
    "# Train the model using the augmented data\n",
    "EPOCHS = 20\n",
    "\n",
    "history = model.fit(aug_train_data,\n",
    "                    steps_per_epoch=len(train_data) // 32,\n",
    "                    validation_data=(val_data, val_labels),\n",
    "                    callbacks=CALLBACKS,\n",
    "                    epochs=EPOCHS,\n",
    "                    class_weight=class_weights)"
   ]
  }
 ],
 "metadata": {
  "kernelspec": {
   "display_name": "Python 3",
   "language": "python",
   "name": "python3"
  },
  "language_info": {
   "codemirror_mode": {
    "name": "ipython",
    "version": 3
   },
   "file_extension": ".py",
   "mimetype": "text/x-python",
   "name": "python",
   "nbconvert_exporter": "python",
   "pygments_lexer": "ipython3",
   "version": "3.8.5"
  }
 },
 "nbformat": 4,
 "nbformat_minor": 4
}
